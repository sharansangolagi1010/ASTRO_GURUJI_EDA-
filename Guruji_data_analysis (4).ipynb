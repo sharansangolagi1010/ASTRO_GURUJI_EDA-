{
  "cells": [
    {
      "cell_type": "markdown",
      "source": [
        "IMPORTING THE LIBRARIES"
      ],
      "metadata": {
        "id": "HMlpIlEIuZ7E"
      }
    },
    {
      "cell_type": "code",
      "execution_count": 69,
      "metadata": {
        "id": "UneJzfD4kT5e"
      },
      "outputs": [],
      "source": [
        "import pandas as pd\n",
        "import numpy as np\n",
        "import matplotlib.pyplot as plt"
      ]
    },
    {
      "cell_type": "markdown",
      "source": [
        "#**Task 1: Data Exploration**\n",
        "#1. Load the dataset into your preferred data analysis tool (e.g., Python, R, Excel).\n",
        "#2. Check for missing values in the dataset and handle them appropriately.\n",
        "#3. Provide summary statistics for key numeric columns (e.g., Charge, TalkTime).\n",
        "#4. Visualize the distribution of call charges using a histogram."
      ],
      "metadata": {
        "id": "bL9mGgDxt-oA"
      }
    },
    {
      "cell_type": "markdown",
      "source": [
        "#1. Load the dataset into your preferred data analysis tool (e.g., Python, R, Excel).\n"
      ],
      "metadata": {
        "id": "Ob_Q_5ktuErq"
      }
    },
    {
      "cell_type": "code",
      "execution_count": 70,
      "metadata": {
        "id": "HvfNjqaHkb5A"
      },
      "outputs": [],
      "source": [
        "#1. Load the dataset into your preferred data analysis tool (e.g., Python, R, Excel).\n",
        "df=pd.read_csv(\"/content/Guruji Calls_Chats - Sheet1 (1).csv\")"
      ]
    },
    {
      "cell_type": "markdown",
      "source": [
        "#2. Check for missing values in the dataset and handle them appropriately.\n"
      ],
      "metadata": {
        "id": "C6wK3ozNuMAo"
      }
    },
    {
      "cell_type": "code",
      "source": [
        "df.head()"
      ],
      "metadata": {
        "colab": {
          "base_uri": "https://localhost:8080/",
          "height": 359
        },
        "id": "uOiluvR_uHPE",
        "outputId": "ae49d7c8-39fe-46f7-e1eb-06cf882cb1a2"
      },
      "execution_count": 71,
      "outputs": [
        {
          "output_type": "execute_result",
          "data": {
            "text/plain": [
              "        ID               OrderId      UID   MID  Charge  TalkTime  \\\n",
              "0  3962818  64F4D0D30A06F737J678  1692911   593    30.0       0.0   \n",
              "1  3962819  64F4D0D804F76288N923  1578323   284    43.2       6.0   \n",
              "2  3962820  64F4D0E85596D826C838  2441121  1073    18.0      16.0   \n",
              "3  3962821  64F4D10322BA3971T452  1611790  1050    12.0       0.0   \n",
              "4  3962822  64F4D11CA2622709F185   399599   469    30.0       8.0   \n",
              "\n",
              "        Source  Country  UserSpend  MasterEarn  ...       CreateTime(IN)  \\\n",
              "0         Chat        1        0.0         0.0  ...  2023-09-04 00:00:43   \n",
              "1         Call        1      259.2       129.6  ...  2023-09-04 00:00:48   \n",
              "2  Chat(queue)        1      252.0       125.0  ...  2023-09-04 00:01:04   \n",
              "3  Call(queue)        1        0.0         0.0  ...  2023-09-04 00:01:31   \n",
              "4         Call        1      240.0       120.0  ...  2023-09-04 00:01:56   \n",
              "\n",
              "          DialTime(IN)    UnconnectTime(IN)      ConnectTime(IN)  \\\n",
              "0                  NaN  2023-09-04 00:03:44                  NaN   \n",
              "1  2023-09-04 00:00:48                  NaN  2023-09-04 00:00:58   \n",
              "2  2023-09-04 00:10:24                  NaN  2023-09-04 00:10:27   \n",
              "3  2023-09-04 00:06:43                  NaN  2023-09-04 00:06:50   \n",
              "4  2023-09-04 00:01:56                  NaN  2023-09-04 00:02:10   \n",
              "\n",
              "        HangUpTime(IN) RefundStatus Review Unnamed: 21 Unnamed: 22  \\\n",
              "0                  NaN          NaN     No         NaN         NaN   \n",
              "1  2023-09-04 00:07:51          NaN     No         NaN         NaN   \n",
              "2  2023-09-04 00:26:21          NaN     No         NaN         NaN   \n",
              "3  2023-09-04 00:08:02          NaN     No         NaN         NaN   \n",
              "4  2023-09-04 00:11:37          NaN     No         NaN         NaN   \n",
              "\n",
              "                       ExotelCallId  \n",
              "0                               NaN  \n",
              "1  29ac23ac81a8d0b9292c38b8feb41794  \n",
              "2                               NaN  \n",
              "3  55d26a7e04451beb73db270c18171794  \n",
              "4  5dd5521a6eef642401a40a56637e1794  \n",
              "\n",
              "[5 rows x 24 columns]"
            ],
            "text/html": [
              "\n",
              "  <div id=\"df-89d00362-ed06-4750-b75c-004904c27ce2\" class=\"colab-df-container\">\n",
              "    <div>\n",
              "<style scoped>\n",
              "    .dataframe tbody tr th:only-of-type {\n",
              "        vertical-align: middle;\n",
              "    }\n",
              "\n",
              "    .dataframe tbody tr th {\n",
              "        vertical-align: top;\n",
              "    }\n",
              "\n",
              "    .dataframe thead th {\n",
              "        text-align: right;\n",
              "    }\n",
              "</style>\n",
              "<table border=\"1\" class=\"dataframe\">\n",
              "  <thead>\n",
              "    <tr style=\"text-align: right;\">\n",
              "      <th></th>\n",
              "      <th>ID</th>\n",
              "      <th>OrderId</th>\n",
              "      <th>UID</th>\n",
              "      <th>MID</th>\n",
              "      <th>Charge</th>\n",
              "      <th>TalkTime</th>\n",
              "      <th>Source</th>\n",
              "      <th>Country</th>\n",
              "      <th>UserSpend</th>\n",
              "      <th>MasterEarn</th>\n",
              "      <th>...</th>\n",
              "      <th>CreateTime(IN)</th>\n",
              "      <th>DialTime(IN)</th>\n",
              "      <th>UnconnectTime(IN)</th>\n",
              "      <th>ConnectTime(IN)</th>\n",
              "      <th>HangUpTime(IN)</th>\n",
              "      <th>RefundStatus</th>\n",
              "      <th>Review</th>\n",
              "      <th>Unnamed: 21</th>\n",
              "      <th>Unnamed: 22</th>\n",
              "      <th>ExotelCallId</th>\n",
              "    </tr>\n",
              "  </thead>\n",
              "  <tbody>\n",
              "    <tr>\n",
              "      <th>0</th>\n",
              "      <td>3962818</td>\n",
              "      <td>64F4D0D30A06F737J678</td>\n",
              "      <td>1692911</td>\n",
              "      <td>593</td>\n",
              "      <td>30.0</td>\n",
              "      <td>0.0</td>\n",
              "      <td>Chat</td>\n",
              "      <td>1</td>\n",
              "      <td>0.0</td>\n",
              "      <td>0.0</td>\n",
              "      <td>...</td>\n",
              "      <td>2023-09-04 00:00:43</td>\n",
              "      <td>NaN</td>\n",
              "      <td>2023-09-04 00:03:44</td>\n",
              "      <td>NaN</td>\n",
              "      <td>NaN</td>\n",
              "      <td>NaN</td>\n",
              "      <td>No</td>\n",
              "      <td>NaN</td>\n",
              "      <td>NaN</td>\n",
              "      <td>NaN</td>\n",
              "    </tr>\n",
              "    <tr>\n",
              "      <th>1</th>\n",
              "      <td>3962819</td>\n",
              "      <td>64F4D0D804F76288N923</td>\n",
              "      <td>1578323</td>\n",
              "      <td>284</td>\n",
              "      <td>43.2</td>\n",
              "      <td>6.0</td>\n",
              "      <td>Call</td>\n",
              "      <td>1</td>\n",
              "      <td>259.2</td>\n",
              "      <td>129.6</td>\n",
              "      <td>...</td>\n",
              "      <td>2023-09-04 00:00:48</td>\n",
              "      <td>2023-09-04 00:00:48</td>\n",
              "      <td>NaN</td>\n",
              "      <td>2023-09-04 00:00:58</td>\n",
              "      <td>2023-09-04 00:07:51</td>\n",
              "      <td>NaN</td>\n",
              "      <td>No</td>\n",
              "      <td>NaN</td>\n",
              "      <td>NaN</td>\n",
              "      <td>29ac23ac81a8d0b9292c38b8feb41794</td>\n",
              "    </tr>\n",
              "    <tr>\n",
              "      <th>2</th>\n",
              "      <td>3962820</td>\n",
              "      <td>64F4D0E85596D826C838</td>\n",
              "      <td>2441121</td>\n",
              "      <td>1073</td>\n",
              "      <td>18.0</td>\n",
              "      <td>16.0</td>\n",
              "      <td>Chat(queue)</td>\n",
              "      <td>1</td>\n",
              "      <td>252.0</td>\n",
              "      <td>125.0</td>\n",
              "      <td>...</td>\n",
              "      <td>2023-09-04 00:01:04</td>\n",
              "      <td>2023-09-04 00:10:24</td>\n",
              "      <td>NaN</td>\n",
              "      <td>2023-09-04 00:10:27</td>\n",
              "      <td>2023-09-04 00:26:21</td>\n",
              "      <td>NaN</td>\n",
              "      <td>No</td>\n",
              "      <td>NaN</td>\n",
              "      <td>NaN</td>\n",
              "      <td>NaN</td>\n",
              "    </tr>\n",
              "    <tr>\n",
              "      <th>3</th>\n",
              "      <td>3962821</td>\n",
              "      <td>64F4D10322BA3971T452</td>\n",
              "      <td>1611790</td>\n",
              "      <td>1050</td>\n",
              "      <td>12.0</td>\n",
              "      <td>0.0</td>\n",
              "      <td>Call(queue)</td>\n",
              "      <td>1</td>\n",
              "      <td>0.0</td>\n",
              "      <td>0.0</td>\n",
              "      <td>...</td>\n",
              "      <td>2023-09-04 00:01:31</td>\n",
              "      <td>2023-09-04 00:06:43</td>\n",
              "      <td>NaN</td>\n",
              "      <td>2023-09-04 00:06:50</td>\n",
              "      <td>2023-09-04 00:08:02</td>\n",
              "      <td>NaN</td>\n",
              "      <td>No</td>\n",
              "      <td>NaN</td>\n",
              "      <td>NaN</td>\n",
              "      <td>55d26a7e04451beb73db270c18171794</td>\n",
              "    </tr>\n",
              "    <tr>\n",
              "      <th>4</th>\n",
              "      <td>3962822</td>\n",
              "      <td>64F4D11CA2622709F185</td>\n",
              "      <td>399599</td>\n",
              "      <td>469</td>\n",
              "      <td>30.0</td>\n",
              "      <td>8.0</td>\n",
              "      <td>Call</td>\n",
              "      <td>1</td>\n",
              "      <td>240.0</td>\n",
              "      <td>120.0</td>\n",
              "      <td>...</td>\n",
              "      <td>2023-09-04 00:01:56</td>\n",
              "      <td>2023-09-04 00:01:56</td>\n",
              "      <td>NaN</td>\n",
              "      <td>2023-09-04 00:02:10</td>\n",
              "      <td>2023-09-04 00:11:37</td>\n",
              "      <td>NaN</td>\n",
              "      <td>No</td>\n",
              "      <td>NaN</td>\n",
              "      <td>NaN</td>\n",
              "      <td>5dd5521a6eef642401a40a56637e1794</td>\n",
              "    </tr>\n",
              "  </tbody>\n",
              "</table>\n",
              "<p>5 rows × 24 columns</p>\n",
              "</div>\n",
              "    <div class=\"colab-df-buttons\">\n",
              "\n",
              "  <div class=\"colab-df-container\">\n",
              "    <button class=\"colab-df-convert\" onclick=\"convertToInteractive('df-89d00362-ed06-4750-b75c-004904c27ce2')\"\n",
              "            title=\"Convert this dataframe to an interactive table.\"\n",
              "            style=\"display:none;\">\n",
              "\n",
              "  <svg xmlns=\"http://www.w3.org/2000/svg\" height=\"24px\" viewBox=\"0 -960 960 960\">\n",
              "    <path d=\"M120-120v-720h720v720H120Zm60-500h600v-160H180v160Zm220 220h160v-160H400v160Zm0 220h160v-160H400v160ZM180-400h160v-160H180v160Zm440 0h160v-160H620v160ZM180-180h160v-160H180v160Zm440 0h160v-160H620v160Z\"/>\n",
              "  </svg>\n",
              "    </button>\n",
              "\n",
              "  <style>\n",
              "    .colab-df-container {\n",
              "      display:flex;\n",
              "      gap: 12px;\n",
              "    }\n",
              "\n",
              "    .colab-df-convert {\n",
              "      background-color: #E8F0FE;\n",
              "      border: none;\n",
              "      border-radius: 50%;\n",
              "      cursor: pointer;\n",
              "      display: none;\n",
              "      fill: #1967D2;\n",
              "      height: 32px;\n",
              "      padding: 0 0 0 0;\n",
              "      width: 32px;\n",
              "    }\n",
              "\n",
              "    .colab-df-convert:hover {\n",
              "      background-color: #E2EBFA;\n",
              "      box-shadow: 0px 1px 2px rgba(60, 64, 67, 0.3), 0px 1px 3px 1px rgba(60, 64, 67, 0.15);\n",
              "      fill: #174EA6;\n",
              "    }\n",
              "\n",
              "    .colab-df-buttons div {\n",
              "      margin-bottom: 4px;\n",
              "    }\n",
              "\n",
              "    [theme=dark] .colab-df-convert {\n",
              "      background-color: #3B4455;\n",
              "      fill: #D2E3FC;\n",
              "    }\n",
              "\n",
              "    [theme=dark] .colab-df-convert:hover {\n",
              "      background-color: #434B5C;\n",
              "      box-shadow: 0px 1px 3px 1px rgba(0, 0, 0, 0.15);\n",
              "      filter: drop-shadow(0px 1px 2px rgba(0, 0, 0, 0.3));\n",
              "      fill: #FFFFFF;\n",
              "    }\n",
              "  </style>\n",
              "\n",
              "    <script>\n",
              "      const buttonEl =\n",
              "        document.querySelector('#df-89d00362-ed06-4750-b75c-004904c27ce2 button.colab-df-convert');\n",
              "      buttonEl.style.display =\n",
              "        google.colab.kernel.accessAllowed ? 'block' : 'none';\n",
              "\n",
              "      async function convertToInteractive(key) {\n",
              "        const element = document.querySelector('#df-89d00362-ed06-4750-b75c-004904c27ce2');\n",
              "        const dataTable =\n",
              "          await google.colab.kernel.invokeFunction('convertToInteractive',\n",
              "                                                    [key], {});\n",
              "        if (!dataTable) return;\n",
              "\n",
              "        const docLinkHtml = 'Like what you see? Visit the ' +\n",
              "          '<a target=\"_blank\" href=https://colab.research.google.com/notebooks/data_table.ipynb>data table notebook</a>'\n",
              "          + ' to learn more about interactive tables.';\n",
              "        element.innerHTML = '';\n",
              "        dataTable['output_type'] = 'display_data';\n",
              "        await google.colab.output.renderOutput(dataTable, element);\n",
              "        const docLink = document.createElement('div');\n",
              "        docLink.innerHTML = docLinkHtml;\n",
              "        element.appendChild(docLink);\n",
              "      }\n",
              "    </script>\n",
              "  </div>\n",
              "\n",
              "\n",
              "<div id=\"df-498f33a3-9b41-484c-af87-b8653d29d354\">\n",
              "  <button class=\"colab-df-quickchart\" onclick=\"quickchart('df-498f33a3-9b41-484c-af87-b8653d29d354')\"\n",
              "            title=\"Suggest charts.\"\n",
              "            style=\"display:none;\">\n",
              "\n",
              "<svg xmlns=\"http://www.w3.org/2000/svg\" height=\"24px\"viewBox=\"0 0 24 24\"\n",
              "     width=\"24px\">\n",
              "    <g>\n",
              "        <path d=\"M19 3H5c-1.1 0-2 .9-2 2v14c0 1.1.9 2 2 2h14c1.1 0 2-.9 2-2V5c0-1.1-.9-2-2-2zM9 17H7v-7h2v7zm4 0h-2V7h2v10zm4 0h-2v-4h2v4z\"/>\n",
              "    </g>\n",
              "</svg>\n",
              "  </button>\n",
              "\n",
              "<style>\n",
              "  .colab-df-quickchart {\n",
              "      --bg-color: #E8F0FE;\n",
              "      --fill-color: #1967D2;\n",
              "      --hover-bg-color: #E2EBFA;\n",
              "      --hover-fill-color: #174EA6;\n",
              "      --disabled-fill-color: #AAA;\n",
              "      --disabled-bg-color: #DDD;\n",
              "  }\n",
              "\n",
              "  [theme=dark] .colab-df-quickchart {\n",
              "      --bg-color: #3B4455;\n",
              "      --fill-color: #D2E3FC;\n",
              "      --hover-bg-color: #434B5C;\n",
              "      --hover-fill-color: #FFFFFF;\n",
              "      --disabled-bg-color: #3B4455;\n",
              "      --disabled-fill-color: #666;\n",
              "  }\n",
              "\n",
              "  .colab-df-quickchart {\n",
              "    background-color: var(--bg-color);\n",
              "    border: none;\n",
              "    border-radius: 50%;\n",
              "    cursor: pointer;\n",
              "    display: none;\n",
              "    fill: var(--fill-color);\n",
              "    height: 32px;\n",
              "    padding: 0;\n",
              "    width: 32px;\n",
              "  }\n",
              "\n",
              "  .colab-df-quickchart:hover {\n",
              "    background-color: var(--hover-bg-color);\n",
              "    box-shadow: 0 1px 2px rgba(60, 64, 67, 0.3), 0 1px 3px 1px rgba(60, 64, 67, 0.15);\n",
              "    fill: var(--button-hover-fill-color);\n",
              "  }\n",
              "\n",
              "  .colab-df-quickchart-complete:disabled,\n",
              "  .colab-df-quickchart-complete:disabled:hover {\n",
              "    background-color: var(--disabled-bg-color);\n",
              "    fill: var(--disabled-fill-color);\n",
              "    box-shadow: none;\n",
              "  }\n",
              "\n",
              "  .colab-df-spinner {\n",
              "    border: 2px solid var(--fill-color);\n",
              "    border-color: transparent;\n",
              "    border-bottom-color: var(--fill-color);\n",
              "    animation:\n",
              "      spin 1s steps(1) infinite;\n",
              "  }\n",
              "\n",
              "  @keyframes spin {\n",
              "    0% {\n",
              "      border-color: transparent;\n",
              "      border-bottom-color: var(--fill-color);\n",
              "      border-left-color: var(--fill-color);\n",
              "    }\n",
              "    20% {\n",
              "      border-color: transparent;\n",
              "      border-left-color: var(--fill-color);\n",
              "      border-top-color: var(--fill-color);\n",
              "    }\n",
              "    30% {\n",
              "      border-color: transparent;\n",
              "      border-left-color: var(--fill-color);\n",
              "      border-top-color: var(--fill-color);\n",
              "      border-right-color: var(--fill-color);\n",
              "    }\n",
              "    40% {\n",
              "      border-color: transparent;\n",
              "      border-right-color: var(--fill-color);\n",
              "      border-top-color: var(--fill-color);\n",
              "    }\n",
              "    60% {\n",
              "      border-color: transparent;\n",
              "      border-right-color: var(--fill-color);\n",
              "    }\n",
              "    80% {\n",
              "      border-color: transparent;\n",
              "      border-right-color: var(--fill-color);\n",
              "      border-bottom-color: var(--fill-color);\n",
              "    }\n",
              "    90% {\n",
              "      border-color: transparent;\n",
              "      border-bottom-color: var(--fill-color);\n",
              "    }\n",
              "  }\n",
              "</style>\n",
              "\n",
              "  <script>\n",
              "    async function quickchart(key) {\n",
              "      const quickchartButtonEl =\n",
              "        document.querySelector('#' + key + ' button');\n",
              "      quickchartButtonEl.disabled = true;  // To prevent multiple clicks.\n",
              "      quickchartButtonEl.classList.add('colab-df-spinner');\n",
              "      try {\n",
              "        const charts = await google.colab.kernel.invokeFunction(\n",
              "            'suggestCharts', [key], {});\n",
              "      } catch (error) {\n",
              "        console.error('Error during call to suggestCharts:', error);\n",
              "      }\n",
              "      quickchartButtonEl.classList.remove('colab-df-spinner');\n",
              "      quickchartButtonEl.classList.add('colab-df-quickchart-complete');\n",
              "    }\n",
              "    (() => {\n",
              "      let quickchartButtonEl =\n",
              "        document.querySelector('#df-498f33a3-9b41-484c-af87-b8653d29d354 button');\n",
              "      quickchartButtonEl.style.display =\n",
              "        google.colab.kernel.accessAllowed ? 'block' : 'none';\n",
              "    })();\n",
              "  </script>\n",
              "</div>\n",
              "    </div>\n",
              "  </div>\n"
            ]
          },
          "metadata": {},
          "execution_count": 71
        }
      ]
    },
    {
      "cell_type": "markdown",
      "source": [
        "#2. Check for missing values in the dataset and handle them appropriately.\n"
      ],
      "metadata": {
        "id": "hVAvd0YjxKlf"
      }
    },
    {
      "cell_type": "markdown",
      "source": [
        "Finding null values  and handling with them"
      ],
      "metadata": {
        "id": "U5y7dt8euvfB"
      }
    },
    {
      "cell_type": "code",
      "execution_count": 72,
      "metadata": {
        "id": "JviDARrkkmHv"
      },
      "outputs": [],
      "source": [
        "#removing un wanted coloum like UN NAMED 22, UN NAMED 21\n",
        "#df.drop([\"Unnamed: 22\",\"Unnamed: 21\"],axis=1,inplace=True)\n",
        "df[\"RefundStatus\"]=df[\"RefundStatus\"].fillna(\"No Refund\")\n",
        "df[\"Activity\"]=df[\"Activity\"].fillna(\"No Activity\")\n",
        "#df.drop(\"ExotelCallId\",axis=1,inplace=True)\n",
        "#data mining\n",
        "df.fillna(0,inplace=True)\n",
        "#data mining\n",
        "#df.drop(\"HangUpTime(IN)_second\")\n"
      ]
    },
    {
      "cell_type": "code",
      "source": [
        "#data mining\n",
        "df[\"CreateTime(IN)\"]=pd.to_datetime(df[\"CreateTime(IN)\"])\n",
        "df[\"DialTime(IN)\"]=pd.to_datetime(df[\"DialTime(IN)\"])\n",
        "df[\"HangUpTime(IN)\"]=pd.to_datetime(df[\"HangUpTime(IN)\"])\n",
        "df[\"ConnectTime(IN)\"]=pd.to_datetime(df[\"ConnectTime(IN)\"])\n",
        "df[\"UnconnectTime(IN)\"]=pd.to_datetime(df[\"UnconnectTime(IN)\"])"
      ],
      "metadata": {
        "id": "Hj-qpNovwkCx"
      },
      "execution_count": 73,
      "outputs": []
    },
    {
      "cell_type": "code",
      "source": [
        "#data mining\n",
        "df[\"HangUpTime(IN)_second\"]=df[\"HangUpTime(IN)\"].dt.second\n",
        "df[\"UnconnectTime(IN)_second\"]=df[\"UnconnectTime(IN)\"].dt.second\n",
        "df[\" DialTime(IN)_second\"]=df[\"DialTime(IN)\"].dt.second\n",
        "df[\"CreateTime(IN)_second\"]=df[\"CreateTime(IN)\"].dt.second\n",
        "df[\"ConnectTime(IN)_second\"]=df[\"ConnectTime(IN)\"].dt.second"
      ],
      "metadata": {
        "id": "2Rm0mBDDw3fV"
      },
      "execution_count": 74,
      "outputs": []
    },
    {
      "cell_type": "code",
      "source": [
        "#2. Check for missing values in the dataset and handle them appropriately.\n",
        "df.isnull().sum()"
      ],
      "metadata": {
        "colab": {
          "base_uri": "https://localhost:8080/"
        },
        "id": "fdsrbjqKxHKh",
        "outputId": "c2dcfc36-559d-48a5-8917-172e8cfd954d"
      },
      "execution_count": 75,
      "outputs": [
        {
          "output_type": "execute_result",
          "data": {
            "text/plain": [
              "ID                          0\n",
              "OrderId                     0\n",
              "UID                         0\n",
              "MID                         0\n",
              "Charge                      0\n",
              "TalkTime                    0\n",
              "Source                      0\n",
              "Country                     0\n",
              "UserSpend                   0\n",
              "MasterEarn                  0\n",
              "OrderStatus                 0\n",
              "Ender                       0\n",
              "Activity                    0\n",
              "Platform                    0\n",
              "CreateTime(IN)              0\n",
              "DialTime(IN)                0\n",
              "UnconnectTime(IN)           0\n",
              "ConnectTime(IN)             0\n",
              "HangUpTime(IN)              0\n",
              "RefundStatus                0\n",
              "Review                      0\n",
              "Unnamed: 21                 0\n",
              "Unnamed: 22                 0\n",
              "ExotelCallId                0\n",
              "HangUpTime(IN)_second       0\n",
              "UnconnectTime(IN)_second    0\n",
              " DialTime(IN)_second        0\n",
              "CreateTime(IN)_second       0\n",
              "ConnectTime(IN)_second      0\n",
              "dtype: int64"
            ]
          },
          "metadata": {},
          "execution_count": 75
        }
      ]
    },
    {
      "cell_type": "markdown",
      "source": [
        "#3. Provide summary statistics for key numeric columns (e.g., Charge, TalkTime).\n"
      ],
      "metadata": {
        "id": "E0JugVbQvNcZ"
      }
    },
    {
      "cell_type": "code",
      "source": [
        "#3. Provide summary statistics for key numeric columns (e.g., Charge, TalkTime).\n",
        "df.describe()\n"
      ],
      "metadata": {
        "colab": {
          "base_uri": "https://localhost:8080/",
          "height": 337
        },
        "id": "tHsYAzLj3i5k",
        "outputId": "b9f9d7c3-34d5-40bf-c99b-3cf2eedbaf13"
      },
      "execution_count": 76,
      "outputs": [
        {
          "output_type": "execute_result",
          "data": {
            "text/plain": [
              "                 ID           UID         MID       Charge     TalkTime  \\\n",
              "count  1.886000e+03  1.886000e+03  1886.00000  1886.000000  1886.000000   \n",
              "mean   3.963760e+06  2.492180e+06   670.28685    28.159274     7.011278   \n",
              "std    5.445856e+02  1.108605e+06   336.63075    15.417880     8.380790   \n",
              "min    3.962818e+06  2.776800e+04    13.00000     1.490000     0.000000   \n",
              "25%    3.963289e+06  1.511904e+06   415.00000    20.000000     0.000000   \n",
              "50%    3.963760e+06  2.884182e+06   656.00000    24.000000     6.000000   \n",
              "75%    3.964232e+06  3.555880e+06   994.00000    33.000000     9.000000   \n",
              "max    3.964703e+06  3.565042e+06  1101.00000    96.000000   119.000000   \n",
              "\n",
              "           Country    UserSpend   MasterEarn  Unnamed: 21  Unnamed: 22  \\\n",
              "count  1886.000000  1886.000000  1886.000000       1886.0       1886.0   \n",
              "mean      1.006893   193.887243    91.008112          0.0          0.0   \n",
              "std       0.082759   243.820953   196.682161          0.0          0.0   \n",
              "min       1.000000     0.000000     0.000000          0.0          0.0   \n",
              "25%       1.000000     0.000000     0.000000          0.0          0.0   \n",
              "50%       1.000000   138.000000    40.000000          0.0          0.0   \n",
              "75%       1.000000   240.000000   105.000000          0.0          0.0   \n",
              "max       2.000000  2380.000000  5618.510000          0.0          0.0   \n",
              "\n",
              "       HangUpTime(IN)_second  UnconnectTime(IN)_second   DialTime(IN)_second  \\\n",
              "count            1886.000000               1886.000000           1886.000000   \n",
              "mean               24.209438                  4.941676             26.330859   \n",
              "std                19.134901                 12.809264             18.645735   \n",
              "min                 0.000000                  0.000000              0.000000   \n",
              "25%                 5.000000                  0.000000              9.000000   \n",
              "50%                23.000000                  0.000000             26.000000   \n",
              "75%                41.000000                  0.000000             42.000000   \n",
              "max                59.000000                 59.000000             59.000000   \n",
              "\n",
              "       CreateTime(IN)_second  ConnectTime(IN)_second  \n",
              "count            1886.000000             1886.000000  \n",
              "mean               29.142100               25.181336  \n",
              "std                17.254868               18.950669  \n",
              "min                 0.000000                0.000000  \n",
              "25%                14.000000                8.000000  \n",
              "50%                29.000000               24.000000  \n",
              "75%                44.000000               42.000000  \n",
              "max                59.000000               59.000000  "
            ],
            "text/html": [
              "\n",
              "  <div id=\"df-a067c99b-a54a-4c13-9736-847b6ec09261\" class=\"colab-df-container\">\n",
              "    <div>\n",
              "<style scoped>\n",
              "    .dataframe tbody tr th:only-of-type {\n",
              "        vertical-align: middle;\n",
              "    }\n",
              "\n",
              "    .dataframe tbody tr th {\n",
              "        vertical-align: top;\n",
              "    }\n",
              "\n",
              "    .dataframe thead th {\n",
              "        text-align: right;\n",
              "    }\n",
              "</style>\n",
              "<table border=\"1\" class=\"dataframe\">\n",
              "  <thead>\n",
              "    <tr style=\"text-align: right;\">\n",
              "      <th></th>\n",
              "      <th>ID</th>\n",
              "      <th>UID</th>\n",
              "      <th>MID</th>\n",
              "      <th>Charge</th>\n",
              "      <th>TalkTime</th>\n",
              "      <th>Country</th>\n",
              "      <th>UserSpend</th>\n",
              "      <th>MasterEarn</th>\n",
              "      <th>Unnamed: 21</th>\n",
              "      <th>Unnamed: 22</th>\n",
              "      <th>HangUpTime(IN)_second</th>\n",
              "      <th>UnconnectTime(IN)_second</th>\n",
              "      <th>DialTime(IN)_second</th>\n",
              "      <th>CreateTime(IN)_second</th>\n",
              "      <th>ConnectTime(IN)_second</th>\n",
              "    </tr>\n",
              "  </thead>\n",
              "  <tbody>\n",
              "    <tr>\n",
              "      <th>count</th>\n",
              "      <td>1.886000e+03</td>\n",
              "      <td>1.886000e+03</td>\n",
              "      <td>1886.00000</td>\n",
              "      <td>1886.000000</td>\n",
              "      <td>1886.000000</td>\n",
              "      <td>1886.000000</td>\n",
              "      <td>1886.000000</td>\n",
              "      <td>1886.000000</td>\n",
              "      <td>1886.0</td>\n",
              "      <td>1886.0</td>\n",
              "      <td>1886.000000</td>\n",
              "      <td>1886.000000</td>\n",
              "      <td>1886.000000</td>\n",
              "      <td>1886.000000</td>\n",
              "      <td>1886.000000</td>\n",
              "    </tr>\n",
              "    <tr>\n",
              "      <th>mean</th>\n",
              "      <td>3.963760e+06</td>\n",
              "      <td>2.492180e+06</td>\n",
              "      <td>670.28685</td>\n",
              "      <td>28.159274</td>\n",
              "      <td>7.011278</td>\n",
              "      <td>1.006893</td>\n",
              "      <td>193.887243</td>\n",
              "      <td>91.008112</td>\n",
              "      <td>0.0</td>\n",
              "      <td>0.0</td>\n",
              "      <td>24.209438</td>\n",
              "      <td>4.941676</td>\n",
              "      <td>26.330859</td>\n",
              "      <td>29.142100</td>\n",
              "      <td>25.181336</td>\n",
              "    </tr>\n",
              "    <tr>\n",
              "      <th>std</th>\n",
              "      <td>5.445856e+02</td>\n",
              "      <td>1.108605e+06</td>\n",
              "      <td>336.63075</td>\n",
              "      <td>15.417880</td>\n",
              "      <td>8.380790</td>\n",
              "      <td>0.082759</td>\n",
              "      <td>243.820953</td>\n",
              "      <td>196.682161</td>\n",
              "      <td>0.0</td>\n",
              "      <td>0.0</td>\n",
              "      <td>19.134901</td>\n",
              "      <td>12.809264</td>\n",
              "      <td>18.645735</td>\n",
              "      <td>17.254868</td>\n",
              "      <td>18.950669</td>\n",
              "    </tr>\n",
              "    <tr>\n",
              "      <th>min</th>\n",
              "      <td>3.962818e+06</td>\n",
              "      <td>2.776800e+04</td>\n",
              "      <td>13.00000</td>\n",
              "      <td>1.490000</td>\n",
              "      <td>0.000000</td>\n",
              "      <td>1.000000</td>\n",
              "      <td>0.000000</td>\n",
              "      <td>0.000000</td>\n",
              "      <td>0.0</td>\n",
              "      <td>0.0</td>\n",
              "      <td>0.000000</td>\n",
              "      <td>0.000000</td>\n",
              "      <td>0.000000</td>\n",
              "      <td>0.000000</td>\n",
              "      <td>0.000000</td>\n",
              "    </tr>\n",
              "    <tr>\n",
              "      <th>25%</th>\n",
              "      <td>3.963289e+06</td>\n",
              "      <td>1.511904e+06</td>\n",
              "      <td>415.00000</td>\n",
              "      <td>20.000000</td>\n",
              "      <td>0.000000</td>\n",
              "      <td>1.000000</td>\n",
              "      <td>0.000000</td>\n",
              "      <td>0.000000</td>\n",
              "      <td>0.0</td>\n",
              "      <td>0.0</td>\n",
              "      <td>5.000000</td>\n",
              "      <td>0.000000</td>\n",
              "      <td>9.000000</td>\n",
              "      <td>14.000000</td>\n",
              "      <td>8.000000</td>\n",
              "    </tr>\n",
              "    <tr>\n",
              "      <th>50%</th>\n",
              "      <td>3.963760e+06</td>\n",
              "      <td>2.884182e+06</td>\n",
              "      <td>656.00000</td>\n",
              "      <td>24.000000</td>\n",
              "      <td>6.000000</td>\n",
              "      <td>1.000000</td>\n",
              "      <td>138.000000</td>\n",
              "      <td>40.000000</td>\n",
              "      <td>0.0</td>\n",
              "      <td>0.0</td>\n",
              "      <td>23.000000</td>\n",
              "      <td>0.000000</td>\n",
              "      <td>26.000000</td>\n",
              "      <td>29.000000</td>\n",
              "      <td>24.000000</td>\n",
              "    </tr>\n",
              "    <tr>\n",
              "      <th>75%</th>\n",
              "      <td>3.964232e+06</td>\n",
              "      <td>3.555880e+06</td>\n",
              "      <td>994.00000</td>\n",
              "      <td>33.000000</td>\n",
              "      <td>9.000000</td>\n",
              "      <td>1.000000</td>\n",
              "      <td>240.000000</td>\n",
              "      <td>105.000000</td>\n",
              "      <td>0.0</td>\n",
              "      <td>0.0</td>\n",
              "      <td>41.000000</td>\n",
              "      <td>0.000000</td>\n",
              "      <td>42.000000</td>\n",
              "      <td>44.000000</td>\n",
              "      <td>42.000000</td>\n",
              "    </tr>\n",
              "    <tr>\n",
              "      <th>max</th>\n",
              "      <td>3.964703e+06</td>\n",
              "      <td>3.565042e+06</td>\n",
              "      <td>1101.00000</td>\n",
              "      <td>96.000000</td>\n",
              "      <td>119.000000</td>\n",
              "      <td>2.000000</td>\n",
              "      <td>2380.000000</td>\n",
              "      <td>5618.510000</td>\n",
              "      <td>0.0</td>\n",
              "      <td>0.0</td>\n",
              "      <td>59.000000</td>\n",
              "      <td>59.000000</td>\n",
              "      <td>59.000000</td>\n",
              "      <td>59.000000</td>\n",
              "      <td>59.000000</td>\n",
              "    </tr>\n",
              "  </tbody>\n",
              "</table>\n",
              "</div>\n",
              "    <div class=\"colab-df-buttons\">\n",
              "\n",
              "  <div class=\"colab-df-container\">\n",
              "    <button class=\"colab-df-convert\" onclick=\"convertToInteractive('df-a067c99b-a54a-4c13-9736-847b6ec09261')\"\n",
              "            title=\"Convert this dataframe to an interactive table.\"\n",
              "            style=\"display:none;\">\n",
              "\n",
              "  <svg xmlns=\"http://www.w3.org/2000/svg\" height=\"24px\" viewBox=\"0 -960 960 960\">\n",
              "    <path d=\"M120-120v-720h720v720H120Zm60-500h600v-160H180v160Zm220 220h160v-160H400v160Zm0 220h160v-160H400v160ZM180-400h160v-160H180v160Zm440 0h160v-160H620v160ZM180-180h160v-160H180v160Zm440 0h160v-160H620v160Z\"/>\n",
              "  </svg>\n",
              "    </button>\n",
              "\n",
              "  <style>\n",
              "    .colab-df-container {\n",
              "      display:flex;\n",
              "      gap: 12px;\n",
              "    }\n",
              "\n",
              "    .colab-df-convert {\n",
              "      background-color: #E8F0FE;\n",
              "      border: none;\n",
              "      border-radius: 50%;\n",
              "      cursor: pointer;\n",
              "      display: none;\n",
              "      fill: #1967D2;\n",
              "      height: 32px;\n",
              "      padding: 0 0 0 0;\n",
              "      width: 32px;\n",
              "    }\n",
              "\n",
              "    .colab-df-convert:hover {\n",
              "      background-color: #E2EBFA;\n",
              "      box-shadow: 0px 1px 2px rgba(60, 64, 67, 0.3), 0px 1px 3px 1px rgba(60, 64, 67, 0.15);\n",
              "      fill: #174EA6;\n",
              "    }\n",
              "\n",
              "    .colab-df-buttons div {\n",
              "      margin-bottom: 4px;\n",
              "    }\n",
              "\n",
              "    [theme=dark] .colab-df-convert {\n",
              "      background-color: #3B4455;\n",
              "      fill: #D2E3FC;\n",
              "    }\n",
              "\n",
              "    [theme=dark] .colab-df-convert:hover {\n",
              "      background-color: #434B5C;\n",
              "      box-shadow: 0px 1px 3px 1px rgba(0, 0, 0, 0.15);\n",
              "      filter: drop-shadow(0px 1px 2px rgba(0, 0, 0, 0.3));\n",
              "      fill: #FFFFFF;\n",
              "    }\n",
              "  </style>\n",
              "\n",
              "    <script>\n",
              "      const buttonEl =\n",
              "        document.querySelector('#df-a067c99b-a54a-4c13-9736-847b6ec09261 button.colab-df-convert');\n",
              "      buttonEl.style.display =\n",
              "        google.colab.kernel.accessAllowed ? 'block' : 'none';\n",
              "\n",
              "      async function convertToInteractive(key) {\n",
              "        const element = document.querySelector('#df-a067c99b-a54a-4c13-9736-847b6ec09261');\n",
              "        const dataTable =\n",
              "          await google.colab.kernel.invokeFunction('convertToInteractive',\n",
              "                                                    [key], {});\n",
              "        if (!dataTable) return;\n",
              "\n",
              "        const docLinkHtml = 'Like what you see? Visit the ' +\n",
              "          '<a target=\"_blank\" href=https://colab.research.google.com/notebooks/data_table.ipynb>data table notebook</a>'\n",
              "          + ' to learn more about interactive tables.';\n",
              "        element.innerHTML = '';\n",
              "        dataTable['output_type'] = 'display_data';\n",
              "        await google.colab.output.renderOutput(dataTable, element);\n",
              "        const docLink = document.createElement('div');\n",
              "        docLink.innerHTML = docLinkHtml;\n",
              "        element.appendChild(docLink);\n",
              "      }\n",
              "    </script>\n",
              "  </div>\n",
              "\n",
              "\n",
              "<div id=\"df-50e51f15-8fe0-48aa-9ca6-57459eacf0c6\">\n",
              "  <button class=\"colab-df-quickchart\" onclick=\"quickchart('df-50e51f15-8fe0-48aa-9ca6-57459eacf0c6')\"\n",
              "            title=\"Suggest charts.\"\n",
              "            style=\"display:none;\">\n",
              "\n",
              "<svg xmlns=\"http://www.w3.org/2000/svg\" height=\"24px\"viewBox=\"0 0 24 24\"\n",
              "     width=\"24px\">\n",
              "    <g>\n",
              "        <path d=\"M19 3H5c-1.1 0-2 .9-2 2v14c0 1.1.9 2 2 2h14c1.1 0 2-.9 2-2V5c0-1.1-.9-2-2-2zM9 17H7v-7h2v7zm4 0h-2V7h2v10zm4 0h-2v-4h2v4z\"/>\n",
              "    </g>\n",
              "</svg>\n",
              "  </button>\n",
              "\n",
              "<style>\n",
              "  .colab-df-quickchart {\n",
              "      --bg-color: #E8F0FE;\n",
              "      --fill-color: #1967D2;\n",
              "      --hover-bg-color: #E2EBFA;\n",
              "      --hover-fill-color: #174EA6;\n",
              "      --disabled-fill-color: #AAA;\n",
              "      --disabled-bg-color: #DDD;\n",
              "  }\n",
              "\n",
              "  [theme=dark] .colab-df-quickchart {\n",
              "      --bg-color: #3B4455;\n",
              "      --fill-color: #D2E3FC;\n",
              "      --hover-bg-color: #434B5C;\n",
              "      --hover-fill-color: #FFFFFF;\n",
              "      --disabled-bg-color: #3B4455;\n",
              "      --disabled-fill-color: #666;\n",
              "  }\n",
              "\n",
              "  .colab-df-quickchart {\n",
              "    background-color: var(--bg-color);\n",
              "    border: none;\n",
              "    border-radius: 50%;\n",
              "    cursor: pointer;\n",
              "    display: none;\n",
              "    fill: var(--fill-color);\n",
              "    height: 32px;\n",
              "    padding: 0;\n",
              "    width: 32px;\n",
              "  }\n",
              "\n",
              "  .colab-df-quickchart:hover {\n",
              "    background-color: var(--hover-bg-color);\n",
              "    box-shadow: 0 1px 2px rgba(60, 64, 67, 0.3), 0 1px 3px 1px rgba(60, 64, 67, 0.15);\n",
              "    fill: var(--button-hover-fill-color);\n",
              "  }\n",
              "\n",
              "  .colab-df-quickchart-complete:disabled,\n",
              "  .colab-df-quickchart-complete:disabled:hover {\n",
              "    background-color: var(--disabled-bg-color);\n",
              "    fill: var(--disabled-fill-color);\n",
              "    box-shadow: none;\n",
              "  }\n",
              "\n",
              "  .colab-df-spinner {\n",
              "    border: 2px solid var(--fill-color);\n",
              "    border-color: transparent;\n",
              "    border-bottom-color: var(--fill-color);\n",
              "    animation:\n",
              "      spin 1s steps(1) infinite;\n",
              "  }\n",
              "\n",
              "  @keyframes spin {\n",
              "    0% {\n",
              "      border-color: transparent;\n",
              "      border-bottom-color: var(--fill-color);\n",
              "      border-left-color: var(--fill-color);\n",
              "    }\n",
              "    20% {\n",
              "      border-color: transparent;\n",
              "      border-left-color: var(--fill-color);\n",
              "      border-top-color: var(--fill-color);\n",
              "    }\n",
              "    30% {\n",
              "      border-color: transparent;\n",
              "      border-left-color: var(--fill-color);\n",
              "      border-top-color: var(--fill-color);\n",
              "      border-right-color: var(--fill-color);\n",
              "    }\n",
              "    40% {\n",
              "      border-color: transparent;\n",
              "      border-right-color: var(--fill-color);\n",
              "      border-top-color: var(--fill-color);\n",
              "    }\n",
              "    60% {\n",
              "      border-color: transparent;\n",
              "      border-right-color: var(--fill-color);\n",
              "    }\n",
              "    80% {\n",
              "      border-color: transparent;\n",
              "      border-right-color: var(--fill-color);\n",
              "      border-bottom-color: var(--fill-color);\n",
              "    }\n",
              "    90% {\n",
              "      border-color: transparent;\n",
              "      border-bottom-color: var(--fill-color);\n",
              "    }\n",
              "  }\n",
              "</style>\n",
              "\n",
              "  <script>\n",
              "    async function quickchart(key) {\n",
              "      const quickchartButtonEl =\n",
              "        document.querySelector('#' + key + ' button');\n",
              "      quickchartButtonEl.disabled = true;  // To prevent multiple clicks.\n",
              "      quickchartButtonEl.classList.add('colab-df-spinner');\n",
              "      try {\n",
              "        const charts = await google.colab.kernel.invokeFunction(\n",
              "            'suggestCharts', [key], {});\n",
              "      } catch (error) {\n",
              "        console.error('Error during call to suggestCharts:', error);\n",
              "      }\n",
              "      quickchartButtonEl.classList.remove('colab-df-spinner');\n",
              "      quickchartButtonEl.classList.add('colab-df-quickchart-complete');\n",
              "    }\n",
              "    (() => {\n",
              "      let quickchartButtonEl =\n",
              "        document.querySelector('#df-50e51f15-8fe0-48aa-9ca6-57459eacf0c6 button');\n",
              "      quickchartButtonEl.style.display =\n",
              "        google.colab.kernel.accessAllowed ? 'block' : 'none';\n",
              "    })();\n",
              "  </script>\n",
              "</div>\n",
              "    </div>\n",
              "  </div>\n"
            ]
          },
          "metadata": {},
          "execution_count": 76
        }
      ]
    },
    {
      "cell_type": "markdown",
      "source": [
        "Unique values of the Charge"
      ],
      "metadata": {
        "id": "KhI_2YwsvjXB"
      }
    },
    {
      "cell_type": "code",
      "source": [
        "df[\"Charge\"].unique()"
      ],
      "metadata": {
        "colab": {
          "base_uri": "https://localhost:8080/"
        },
        "id": "w-I_ZsiwvUd8",
        "outputId": "5339d770-7496-49d8-c150-02be1b5cffd1"
      },
      "execution_count": 77,
      "outputs": [
        {
          "output_type": "execute_result",
          "data": {
            "text/plain": [
              "array([30.  , 43.2 , 18.  , 12.  , 21.  , 25.  , 20.  , 42.  , 33.  ,\n",
              "       23.  , 22.5 , 15.  , 40.  , 36.  , 45.  , 96.  , 60.  , 17.  ,\n",
              "       50.  , 32.  , 35.  , 22.  , 11.  ,  3.  ,  1.49, 91.  , 75.  ,\n",
              "       24.  , 46.  ,  2.99,  1.99, 10.8 , 48.  , 27.  , 16.2 , 51.  ,\n",
              "       29.  , 20.7 , 19.8 , 65.  , 43.  , 21.6 , 29.7 , 16.  ])"
            ]
          },
          "metadata": {},
          "execution_count": 77
        }
      ]
    },
    {
      "cell_type": "markdown",
      "source": [
        "Unique values of TalkTime"
      ],
      "metadata": {
        "id": "MN6NwJgtvoXo"
      }
    },
    {
      "cell_type": "code",
      "source": [
        "df[\"TalkTime\"].unique()"
      ],
      "metadata": {
        "colab": {
          "base_uri": "https://localhost:8080/"
        },
        "id": "66coewI1vn1U",
        "outputId": "3a241b5f-0cf6-47f6-8998-d0a3acf2d66e"
      },
      "execution_count": 78,
      "outputs": [
        {
          "output_type": "execute_result",
          "data": {
            "text/plain": [
              "array([  0.      ,   6.      ,  16.      ,   8.      ,   5.      ,\n",
              "         2.      ,  26.      ,  22.      ,   4.      ,  12.      ,\n",
              "        33.      ,  10.      ,  14.      ,  18.      ,   9.      ,\n",
              "        11.      ,  13.      ,   7.      ,   8.695652,   1.      ,\n",
              "        13.53333 ,   9.52381 ,  41.      ,  47.      ,   5.671429,\n",
              "        15.      ,   5.761905,  17.      ,   9.52    ,   3.      ,\n",
              "         6.666667,  36.      ,  25.      ,   5.742857,  24.      ,\n",
              "        60.      ,  11.70833 ,  46.      ,  29.74074 ,   5.833333,\n",
              "         9.76    ,  29.      ,   5.714286,  39.94286 ,  19.      ,\n",
              "        32.      ,   5.625   ,  48.      ,  15.71429 ,  28.      ,\n",
              "        20.      ,  23.      ,  49.      ,  13.66667 ,  31.      ,\n",
              "         6.733333,   5.555556,   5.857143,  21.      ,  56.      ,\n",
              "        13.8     ,  18.73333 ,  12.8     ,   5.604396,   9.571429,\n",
              "        29.56667 ,  11.75    ,  27.      ,  27.8     ,   6.833333,\n",
              "        44.      ,  30.      ,  13.5     ,   9.92    ,  16.66667 ,\n",
              "         5.927083,  45.      ,  10.66667 ,   8.636364,  35.      ,\n",
              "         8.84    ,  22.91667 ,  12.85714 ,  13.75    ,   6.5     ,\n",
              "         8.833333,  24.66667 ,  50.      ,  40.      ,  51.      ,\n",
              "        23.91304 ,  34.71429 ,   9.733333,   8.761905,   7.9     ,\n",
              "        18.95    ,  39.      ,  37.      , 119.      ,   5.5     ,\n",
              "        42.      ,  70.      ,  11.76471 ,  11.66667 ,  11.90476 ,\n",
              "         5.882353,  10.5     ,   6.75    ,  10.69565 ,  13.88889 ])"
            ]
          },
          "metadata": {},
          "execution_count": 78
        }
      ]
    },
    {
      "cell_type": "markdown",
      "source": [
        "#4. Visualize the distribution of call charges using a histogram.\n"
      ],
      "metadata": {
        "id": "yVFzl_ykwVig"
      }
    },
    {
      "cell_type": "code",
      "source": [
        "df[\"Charge\"].groupby(df[\"Source\"]==\"call\").plot(kind=\"hist\")\n",
        "plt.show()"
      ],
      "metadata": {
        "colab": {
          "base_uri": "https://localhost:8080/",
          "height": 430
        },
        "id": "QJHkjsto3sx8",
        "outputId": "448345b4-8be9-4f6b-c2d8-6bae3cfd7e45"
      },
      "execution_count": 79,
      "outputs": [
        {
          "output_type": "display_data",
          "data": {
            "text/plain": [
              "<Figure size 640x480 with 1 Axes>"
            ],
            "image/png": "[encoded data removed]"
          },
          "metadata": {}
        }
      ]
    },
    {
      "cell_type": "code",
      "execution_count": 79,
      "metadata": {
        "id": "qlET7O71OKu8"
      },
      "outputs": [],
      "source": []
    },
    {
      "cell_type": "markdown",
      "source": [
        "#**Task 2: Call Center Performance Metrics**\n",
        "#5. Calculate the average TalkTime for different call activities (Activity column)."
      ],
      "metadata": {
        "id": "wfuXysXQzssf"
      }
    },
    {
      "cell_type": "code",
      "source": [
        "\n",
        "#5. Calculate the average TalkTime for different call activities (Activity column).\n",
        "df[\"TalkTime\"].groupby(df[\"Activity\"]).mean()\n"
      ],
      "metadata": {
        "colab": {
          "base_uri": "https://localhost:8080/"
        },
        "id": "F3Cv8Yuc4bwH",
        "outputId": "7c370a13-a031-4dc7-f1bd-0e3764f59044"
      },
      "execution_count": 80,
      "outputs": [
        {
          "output_type": "execute_result",
          "data": {
            "text/plain": [
              "Activity\n",
              "Active Offer    10.556936\n",
              "First 5₹         4.076628\n",
              "Free             4.250000\n",
              "Member          15.127184\n",
              "No Activity      7.265318\n",
              "Name: TalkTime, dtype: float64"
            ]
          },
          "metadata": {},
          "execution_count": 80
        }
      ]
    },
    {
      "cell_type": "markdown",
      "source": [
        "#6. Determine the most common source of calls (Source column)\n"
      ],
      "metadata": {
        "id": "JrlSfDOf0C4A"
      }
    },
    {
      "cell_type": "code",
      "source": [
        "#6. Determine the most common source of calls (Source column)\n",
        "df[\"Source\"].value_counts()"
      ],
      "metadata": {
        "colab": {
          "base_uri": "https://localhost:8080/"
        },
        "id": "mnRK2I8Z5fik",
        "outputId": "a66d0846-af30-41cd-def2-4241cfd9cab5"
      },
      "execution_count": 81,
      "outputs": [
        {
          "output_type": "execute_result",
          "data": {
            "text/plain": [
              "Chat           772\n",
              "Call           771\n",
              "Call(queue)    253\n",
              "Chat(queue)     76\n",
              "PrivateLive     14\n",
              "Name: Source, dtype: int64"
            ]
          },
          "metadata": {},
          "execution_count": 81
        }
      ]
    },
    {
      "cell_type": "markdown",
      "source": [
        "#7. Calculate the total earnings and spending for both users and masters.\n"
      ],
      "metadata": {
        "id": "inWwowAw0FIP"
      }
    },
    {
      "cell_type": "code",
      "source": [
        "#7. Calculate the total earnings and spending for both users and masters.\n",
        "df[\"UserSpend\"].sum()\n"
      ],
      "metadata": {
        "colab": {
          "base_uri": "https://localhost:8080/"
        },
        "id": "fX56jjid6EAs",
        "outputId": "aeb028fc-7b7b-4e0c-f6ee-7a567f91b62d"
      },
      "execution_count": 82,
      "outputs": [
        {
          "output_type": "execute_result",
          "data": {
            "text/plain": [
              "365671.34"
            ]
          },
          "metadata": {},
          "execution_count": 82
        }
      ]
    },
    {
      "cell_type": "markdown",
      "source": [
        "#7. Calculate the total earnings and spending for both users and masters.\n"
      ],
      "metadata": {
        "id": "8WaNSYOu0HlE"
      }
    },
    {
      "cell_type": "code",
      "source": [
        "#7. Calculate the total earnings and spending for both users and masters.\n",
        "df[\"MasterEarn\"].sum()"
      ],
      "metadata": {
        "colab": {
          "base_uri": "https://localhost:8080/"
        },
        "id": "QWqOJL9V6ahM",
        "outputId": "e9f30795-d2fc-49c7-cdda-6002b0046558"
      },
      "execution_count": 83,
      "outputs": [
        {
          "output_type": "execute_result",
          "data": {
            "text/plain": [
              "171641.3"
            ]
          },
          "metadata": {},
          "execution_count": 83
        }
      ]
    },
    {
      "cell_type": "markdown",
      "source": [
        "#8. Analyze the relationship between TalkTime and Charge.\n"
      ],
      "metadata": {
        "id": "N6JpjoyE0KZE"
      }
    },
    {
      "cell_type": "code",
      "source": [
        "#8. Analyze the relationship between TalkTime and Charge.\n",
        "plt.plot(df[\"Charge\"])\n",
        "plt.plot(df[\"TalkTime\"])\n",
        "plt.xlabel(\"charge\")\n",
        "plt.ylabel(\"Talktime\")\n",
        "plt.title(\"TalkTime vs Charge\")"
      ],
      "metadata": {
        "colab": {
          "base_uri": "https://localhost:8080/",
          "height": 489
        },
        "id": "jjV1hH8B6owm",
        "outputId": "e1e6bd77-e25b-4b33-e2e8-93aaa9a186f7"
      },
      "execution_count": 84,
      "outputs": [
        {
          "output_type": "execute_result",
          "data": {
            "text/plain": [
              "Text(0.5, 1.0, 'TalkTime vs Charge')"
            ]
          },
          "metadata": {},
          "execution_count": 84
        },
        {
          "output_type": "display_data",
          "data": {
            "text/plain": [
              "<Figure size 640x480 with 1 Axes>"
            ],
            "image/png": "[encoded data removed]"
          },
          "metadata": {}
        }
      ]
    },
    {
      "cell_type": "markdown",
      "source": [
        "#Task 3: Call Handling Analysis**\n",
        "#9.Calculate the average time it takes for calls to be connected (ConnectTime - DialTime).\n",
        "#10. Identify the most common reason for call disconnection (UnconnectTime - ConnectTime).\n",
        "#11. Analyze the HangUpTime patterns and identify any trends.\n"
      ],
      "metadata": {
        "id": "VPUpVhIM1fox"
      }
    },
    {
      "cell_type": "code",
      "execution_count": 85,
      "metadata": {
        "colab": {
          "base_uri": "https://localhost:8080/"
        },
        "id": "7iz16PlvMytA",
        "outputId": "99072457-9c47-4042-869a-6a4f05ed4d53"
      },
      "outputs": [
        {
          "output_type": "execute_result",
          "data": {
            "text/plain": [
              "1.149522799575822"
            ]
          },
          "metadata": {},
          "execution_count": 85
        }
      ],
      "source": [
        "#.9Calculate the average time it takes for calls to be connected (ConnectTime - DialTime).\n",
        "df[\"average\"]=df[\" DialTime(IN)_second\"]-df['ConnectTime(IN)_second']\n",
        "df[\"average\"].mean()\n"
      ]
    },
    {
      "cell_type": "code",
      "execution_count": 86,
      "metadata": {
        "id": "rCmnR-bHM6fq"
      },
      "outputs": [],
      "source": [
        "df.drop(\"HangUpTime(IN)_second\",axis=1,inplace=True)"
      ]
    },
    {
      "cell_type": "markdown",
      "source": [
        "#10. Identify the most common reason for call disconnection (UnconnectTime - ConnectTime).\n"
      ],
      "metadata": {
        "id": "-MSJD2441xC4"
      }
    },
    {
      "cell_type": "code",
      "execution_count": 87,
      "metadata": {
        "colab": {
          "base_uri": "https://localhost:8080/"
        },
        "id": "pGtAYg0GM_wp",
        "outputId": "7e1b8186-4195-45c2-a838-abd88041c487"
      },
      "outputs": [
        {
          "output_type": "execute_result",
          "data": {
            "text/plain": [
              "Source\n",
              "Call           17749\n",
              "Call(queue)     3562\n",
              "Chat           16507\n",
              "Chat(queue)       -8\n",
              "PrivateLive      362\n",
              "Name: Reason, dtype: int64"
            ]
          },
          "metadata": {},
          "execution_count": 87
        }
      ],
      "source": [
        "#10. Identify the most common reason for call disconnection (UnconnectTime - ConnectTime).\n",
        "df[\"Reason\"]=df[\"ConnectTime(IN)_second\"]-df[\"UnconnectTime(IN)_second\"]\n",
        "df[\"Reason\"].groupby(df[\"Source\"]).sum()\n"
      ]
    },
    {
      "cell_type": "markdown",
      "source": [
        "#11. Analyze the HangUpTime patterns and identify any trends.\n"
      ],
      "metadata": {
        "id": "qr0HlOI11zop"
      }
    },
    {
      "cell_type": "code",
      "execution_count": 88,
      "metadata": {
        "colab": {
          "base_uri": "https://localhost:8080/",
          "height": 512
        },
        "id": "BmCk5-jzNGXJ",
        "outputId": "dd3c7ee3-094a-4a5a-8dbf-fec6515f9227"
      },
      "outputs": [
        {
          "output_type": "error",
          "ename": "KeyError",
          "evalue": "ignored",
          "traceback": [
            "\u001b[0;31m---------------------------------------------------------------------------\u001b[0m",
            "\u001b[0;31mKeyError\u001b[0m                                  Traceback (most recent call last)",
            "\u001b[0;32m/usr/local/lib/python3.10/dist-packages/pandas/core/indexes/base.py\u001b[0m in \u001b[0;36mget_loc\u001b[0;34m(self, key, method, tolerance)\u001b[0m\n\u001b[1;32m   3801\u001b[0m             \u001b[0;32mtry\u001b[0m\u001b[0;34m:\u001b[0m\u001b[0;34m\u001b[0m\u001b[0;34m\u001b[0m\u001b[0m\n\u001b[0;32m-> 3802\u001b[0;31m                 \u001b[0;32mreturn\u001b[0m \u001b[0mself\u001b[0m\u001b[0;34m.\u001b[0m\u001b[0m_engine\u001b[0m\u001b[0;34m.\u001b[0m\u001b[0mget_loc\u001b[0m\u001b[0;34m(\u001b[0m\u001b[0mcasted_key\u001b[0m\u001b[0;34m)\u001b[0m\u001b[0;34m\u001b[0m\u001b[0;34m\u001b[0m\u001b[0m\n\u001b[0m\u001b[1;32m   3803\u001b[0m             \u001b[0;32mexcept\u001b[0m \u001b[0mKeyError\u001b[0m \u001b[0;32mas\u001b[0m \u001b[0merr\u001b[0m\u001b[0;34m:\u001b[0m\u001b[0;34m\u001b[0m\u001b[0;34m\u001b[0m\u001b[0m\n",
            "\u001b[0;32m/usr/local/lib/python3.10/dist-packages/pandas/_libs/index.pyx\u001b[0m in \u001b[0;36mpandas._libs.index.IndexEngine.get_loc\u001b[0;34m()\u001b[0m\n",
            "\u001b[0;32m/usr/local/lib/python3.10/dist-packages/pandas/_libs/index.pyx\u001b[0m in \u001b[0;36mpandas._libs.index.IndexEngine.get_loc\u001b[0;34m()\u001b[0m\n",
            "\u001b[0;32mpandas/_libs/hashtable_class_helper.pxi\u001b[0m in \u001b[0;36mpandas._libs.hashtable.PyObjectHashTable.get_item\u001b[0;34m()\u001b[0m\n",
            "\u001b[0;32mpandas/_libs/hashtable_class_helper.pxi\u001b[0m in \u001b[0;36mpandas._libs.hashtable.PyObjectHashTable.get_item\u001b[0;34m()\u001b[0m\n",
            "\u001b[0;31mKeyError\u001b[0m: 'HangUpTime(IN)_second'",
            "\nThe above exception was the direct cause of the following exception:\n",
            "\u001b[0;31mKeyError\u001b[0m                                  Traceback (most recent call last)",
            "\u001b[0;32m<ipython-input-88-1316b22996f2>\u001b[0m in \u001b[0;36m<cell line: 2>\u001b[0;34m()\u001b[0m\n\u001b[1;32m      1\u001b[0m \u001b[0;31m#11. Analyze the HangUpTime patterns and identify any trends.\u001b[0m\u001b[0;34m\u001b[0m\u001b[0;34m\u001b[0m\u001b[0m\n\u001b[0;32m----> 2\u001b[0;31m \u001b[0mplt\u001b[0m\u001b[0;34m.\u001b[0m\u001b[0mhist\u001b[0m\u001b[0;34m(\u001b[0m\u001b[0mdf\u001b[0m\u001b[0;34m[\u001b[0m\u001b[0;34m\"HangUpTime(IN)_second\"\u001b[0m\u001b[0;34m]\u001b[0m\u001b[0;34m)\u001b[0m\u001b[0;34m\u001b[0m\u001b[0;34m\u001b[0m\u001b[0m\n\u001b[0m\u001b[1;32m      3\u001b[0m \u001b[0mplt\u001b[0m\u001b[0;34m.\u001b[0m\u001b[0mshow\u001b[0m\u001b[0;34m(\u001b[0m\u001b[0;34m)\u001b[0m\u001b[0;34m\u001b[0m\u001b[0;34m\u001b[0m\u001b[0m\n",
            "\u001b[0;32m/usr/local/lib/python3.10/dist-packages/pandas/core/frame.py\u001b[0m in \u001b[0;36m__getitem__\u001b[0;34m(self, key)\u001b[0m\n\u001b[1;32m   3805\u001b[0m             \u001b[0;32mif\u001b[0m \u001b[0mself\u001b[0m\u001b[0;34m.\u001b[0m\u001b[0mcolumns\u001b[0m\u001b[0;34m.\u001b[0m\u001b[0mnlevels\u001b[0m \u001b[0;34m>\u001b[0m \u001b[0;36m1\u001b[0m\u001b[0;34m:\u001b[0m\u001b[0;34m\u001b[0m\u001b[0;34m\u001b[0m\u001b[0m\n\u001b[1;32m   3806\u001b[0m                 \u001b[0;32mreturn\u001b[0m \u001b[0mself\u001b[0m\u001b[0;34m.\u001b[0m\u001b[0m_getitem_multilevel\u001b[0m\u001b[0;34m(\u001b[0m\u001b[0mkey\u001b[0m\u001b[0;34m)\u001b[0m\u001b[0;34m\u001b[0m\u001b[0;34m\u001b[0m\u001b[0m\n\u001b[0;32m-> 3807\u001b[0;31m             \u001b[0mindexer\u001b[0m \u001b[0;34m=\u001b[0m \u001b[0mself\u001b[0m\u001b[0;34m.\u001b[0m\u001b[0mcolumns\u001b[0m\u001b[0;34m.\u001b[0m\u001b[0mget_loc\u001b[0m\u001b[0;34m(\u001b[0m\u001b[0mkey\u001b[0m\u001b[0;34m)\u001b[0m\u001b[0;34m\u001b[0m\u001b[0;34m\u001b[0m\u001b[0m\n\u001b[0m\u001b[1;32m   3808\u001b[0m             \u001b[0;32mif\u001b[0m \u001b[0mis_integer\u001b[0m\u001b[0;34m(\u001b[0m\u001b[0mindexer\u001b[0m\u001b[0;34m)\u001b[0m\u001b[0;34m:\u001b[0m\u001b[0;34m\u001b[0m\u001b[0;34m\u001b[0m\u001b[0m\n\u001b[1;32m   3809\u001b[0m                 \u001b[0mindexer\u001b[0m \u001b[0;34m=\u001b[0m \u001b[0;34m[\u001b[0m\u001b[0mindexer\u001b[0m\u001b[0;34m]\u001b[0m\u001b[0;34m\u001b[0m\u001b[0;34m\u001b[0m\u001b[0m\n",
            "\u001b[0;32m/usr/local/lib/python3.10/dist-packages/pandas/core/indexes/base.py\u001b[0m in \u001b[0;36mget_loc\u001b[0;34m(self, key, method, tolerance)\u001b[0m\n\u001b[1;32m   3802\u001b[0m                 \u001b[0;32mreturn\u001b[0m \u001b[0mself\u001b[0m\u001b[0;34m.\u001b[0m\u001b[0m_engine\u001b[0m\u001b[0;34m.\u001b[0m\u001b[0mget_loc\u001b[0m\u001b[0;34m(\u001b[0m\u001b[0mcasted_key\u001b[0m\u001b[0;34m)\u001b[0m\u001b[0;34m\u001b[0m\u001b[0;34m\u001b[0m\u001b[0m\n\u001b[1;32m   3803\u001b[0m             \u001b[0;32mexcept\u001b[0m \u001b[0mKeyError\u001b[0m \u001b[0;32mas\u001b[0m \u001b[0merr\u001b[0m\u001b[0;34m:\u001b[0m\u001b[0;34m\u001b[0m\u001b[0;34m\u001b[0m\u001b[0m\n\u001b[0;32m-> 3804\u001b[0;31m                 \u001b[0;32mraise\u001b[0m \u001b[0mKeyError\u001b[0m\u001b[0;34m(\u001b[0m\u001b[0mkey\u001b[0m\u001b[0;34m)\u001b[0m \u001b[0;32mfrom\u001b[0m \u001b[0merr\u001b[0m\u001b[0;34m\u001b[0m\u001b[0;34m\u001b[0m\u001b[0m\n\u001b[0m\u001b[1;32m   3805\u001b[0m             \u001b[0;32mexcept\u001b[0m \u001b[0mTypeError\u001b[0m\u001b[0;34m:\u001b[0m\u001b[0;34m\u001b[0m\u001b[0;34m\u001b[0m\u001b[0m\n\u001b[1;32m   3806\u001b[0m                 \u001b[0;31m# If we have a listlike key, _check_indexing_error will raise\u001b[0m\u001b[0;34m\u001b[0m\u001b[0;34m\u001b[0m\u001b[0m\n",
            "\u001b[0;31mKeyError\u001b[0m: 'HangUpTime(IN)_second'"
          ]
        }
      ],
      "source": [
        "#11. Analyze the HangUpTime patterns and identify any trends.\n",
        "plt.hist(df[\"HangUpTime(IN)_second\"])\n",
        "plt.show()"
      ]
    },
    {
      "cell_type": "markdown",
      "source": [
        "#*Task 4: Order and Refund Analysis**\n",
        "#12. Determine the order status distribution for calls"
      ],
      "metadata": {
        "id": "MZUisFi5159u"
      }
    },
    {
      "cell_type": "code",
      "execution_count": null,
      "metadata": {
        "id": "aqVRLuKpNL8L"
      },
      "outputs": [],
      "source": [
        "Task4=df[\"TalkTime\"] > 0\n",
        "Task4.groupby(df[\"OrderStatus\"]).count()/Task4.count()*100\n"
      ]
    },
    {
      "cell_type": "markdown",
      "source": [
        "#13. Calculate the total refund amount and identify the refund status distribution.\n"
      ],
      "metadata": {
        "id": "vW_Mixof1-yy"
      }
    },
    {
      "cell_type": "code",
      "execution_count": 89,
      "metadata": {
        "colab": {
          "base_uri": "https://localhost:8080/"
        },
        "id": "MgFyeq2GNPk1",
        "outputId": "e4257842-af55-421f-ae5a-dbc901f5f63b"
      },
      "outputs": [
        {
          "output_type": "execute_result",
          "data": {
            "text/plain": [
              "total_refund\n",
              "False    365434.34\n",
              "True        237.00\n",
              "Name: UserSpend, dtype: float64"
            ]
          },
          "metadata": {},
          "execution_count": 89
        }
      ],
      "source": [
        "df[\"total_refund\"]=df[\"RefundStatus\"]==\"Refund Processing\"\n",
        "df[\"UserSpend\"].groupby(df[\"total_refund\"]).sum()"
      ]
    },
    {
      "cell_type": "markdown",
      "source": [
        "# 14 Find the insights from data set\n"
      ],
      "metadata": {
        "id": "VXNp06Ti2QXP"
      }
    },
    {
      "cell_type": "markdown",
      "source": [
        "    INSIGHTS\n",
        "    #1, 20%user first time user doing call for for freee (here it is going with loss )\n",
        "    #2, around 30% user are paying very less amount\n",
        "    #call is prefered  over chat\n",
        "    #average Talk time that user spend time"
      ],
      "metadata": {
        "id": "3_rQs6jw2EjT"
      }
    },
    {
      "cell_type": "code",
      "source": [],
      "metadata": {
        "id": "yWUyehV6ALN6"
      },
      "execution_count": 89,
      "outputs": []
    }
  ],
  "metadata": {
    "colab": {
      "provenance": []
    },
    "kernelspec": {
      "display_name": "Python 3",
      "name": "python3"
    },
    "language_info": {
      "name": "python"
    }
  },
  "nbformat": 4,
  "nbformat_minor": 0
}